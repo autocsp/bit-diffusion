{
 "cells": [
  {
   "cell_type": "code",
   "execution_count": 2,
   "metadata": {},
   "outputs": [],
   "source": [
    "# load the libraries\n",
    "import numpy as np\n",
    "from cpmpy import *"
   ]
  },
  {
   "cell_type": "code",
   "execution_count": 3,
   "metadata": {},
   "outputs": [],
   "source": [
    "size = 9\n",
    "block_size = int(np.sqrt(size))\n",
    "e = 0 # value for empty cells\n",
    "# given = np.array([\n",
    "#     [e, e, e,  2, e, 5,  e, e, e],\n",
    "#     [e, 9, e,  e, e, e,  7, 3, e],\n",
    "#     [e, e, 2,  e, e, 9,  e, 6, e],\n",
    "\n",
    "#     [2, e, e,  e, e, e,  4, e, 9],\n",
    "#     [e, e, e,  e, 7, e,  e, e, e],\n",
    "#     [6, e, 9,  e, e, e,  e, e, 1],\n",
    "\n",
    "#     [e, 8, e,  4, e, e,  1, e, e],\n",
    "#     [e, 6, 3,  e, e, e,  e, 8, e],\n",
    "#     [e, e, e,  6, e, 8,  e, e, e]])\n",
    "\n",
    "given = np.zeros(shape=(size,size))\n",
    "\n",
    "# Variables\n",
    "puzzle = intvar(1, size, shape=given.shape, name=\"puzzle\")\n",
    "\n",
    "# we create a model with the row/column constraints\n",
    "model = Model(\n",
    "    # Constraints on rows and columns\n",
    "    [AllDifferent(row) for row in puzzle],\n",
    "    [AllDifferent(col) for col in puzzle.T], # numpy's Transpose\n",
    ")\n",
    "\n",
    "# we extend it with the block constraints\n",
    "# Constraints on blocks\n",
    "for i in range(0,size, block_size):\n",
    "    for j in range(0,size, block_size):\n",
    "        model += AllDifferent(puzzle[i:i+block_size, j:j+block_size]) # python's indexing\n",
    "\n",
    "# Constraints on values (cells that are not empty)\n",
    "model += (puzzle[given!=e] == given[given!=e]) # numpy's indexing"
   ]
  },
  {
   "cell_type": "code",
   "execution_count": 7,
   "metadata": {},
   "outputs": [
    {
     "name": "stderr",
     "output_type": "stream",
     "text": [
      "  0%|          | 288/1000000 [00:00<05:48, 2871.55it/s]\n"
     ]
    }
   ],
   "source": [
    "# Solve and print\n",
    "from tqdm.autonotebook import tqdm\n",
    "import random\n",
    "\n",
    "num_instances = 1_000_000\n",
    "\n",
    "solutions = []\n",
    "\n",
    "pbar = tqdm(total=num_instances)\n",
    "\n",
    "def collect():\n",
    "    # print(x.value())\n",
    "    solutions.append(puzzle.value())\n",
    "    pbar.update(1)\n",
    "\n",
    "model.solveAll(display=collect, solution_limit=num_instances)\n",
    "\n",
    "pbar.close()\n",
    "\n",
    "# for i in trange(num_instances):\n",
    "#     if not s.solve():\n",
    "#         break\n",
    "#     print(puzzle.value())\n",
    "#     store.append(puzzle.value())\n",
    "\n",
    "#     randsols = random.choices(store, k=min((50, len(store)))) + [puzzle.value()]\n",
    "#     s.maximize(sum([sum( abs(np.add(puzzle, -sol)) ) for sol in randsols]))\n",
    "\n",
    "\n",
    "np.save(f\"sudoku{size}.npy\", np.array(solutions))"
   ]
  },
  {
   "cell_type": "code",
   "execution_count": 6,
   "metadata": {},
   "outputs": [
    {
     "data": {
      "text/plain": [
       "288"
      ]
     },
     "execution_count": 6,
     "metadata": {},
     "output_type": "execute_result"
    }
   ],
   "source": [
    "len(solutions)"
   ]
  }
 ],
 "metadata": {
  "kernelspec": {
   "display_name": "Python 3.8.12 ('autocsp')",
   "language": "python",
   "name": "python3"
  },
  "language_info": {
   "codemirror_mode": {
    "name": "ipython",
    "version": 3
   },
   "file_extension": ".py",
   "mimetype": "text/x-python",
   "name": "python",
   "nbconvert_exporter": "python",
   "pygments_lexer": "ipython3",
   "version": "3.8.12"
  },
  "orig_nbformat": 4,
  "vscode": {
   "interpreter": {
    "hash": "f5587d67630af3fa66859384e82b39ca17c1c5f37ecf2fe6d1275a976e9d4eaf"
   }
  }
 },
 "nbformat": 4,
 "nbformat_minor": 2
}
